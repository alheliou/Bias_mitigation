{
  "cells": [
    {
      "cell_type": "markdown",
      "metadata": {
        "id": "view-in-github",
        "colab_type": "text"
      },
      "source": [
        "<a href=\"https://colab.research.google.com/github/alheliou/Bias_mitigation/blob/main/TD_intro_data_analysis.ipynb\" target=\"_parent\"><img src=\"https://colab.research.google.com/assets/colab-badge.svg\" alt=\"Open In Colab\"/></a>"
      ]
    },
    {
      "cell_type": "markdown",
      "id": "ca74db06",
      "metadata": {
        "id": "ca74db06"
      },
      "source": [
        "# TD 1: Fairness notion and data analysis\n",
        "\n",
        "In this first TD we are going to manipulate some data and see the behaviour of the different fairness metrics\n",
        "\n",
        "## Objectives\n",
        "\n",
        "\n",
        " 1. Study the data, the distribution of each feature and its relation to the target.\n",
        "\n",
        " 2. Highlight some bias present in the data\n",
        "\n",
        "\n",
        "## Installation of the environnement\n",
        "\n",
        "We highly recommend you to follow these steps, it will allow every student to work in an environment as similar as possible to the one used during testing.\n",
        "\n",
        "### Colab Settings\n",
        "  The next two cells of code are too execute only once per colab environment\n",
        "\n",
        "\n",
        "#### 1. Python env creation\n",
        "\n",
        "        ```\n",
        "        ! python -m pip install numpy fairlearn plotly nbformat ipykernel aif360[\"inFairness\"] aif360['AdversarialDebiasing'] causal-learn BlackBoxAuditing cvxpy dice-ml lime shapkit\n",
        "        ```\n",
        "\n",
        "#### 2. Download MEPS dataset (for part2) it can take several minutes\n",
        "\n",
        "        ```\n",
        "        ! Rscript /usr/local/lib/python3.12/dist-packages/aif360/data/raw/meps/generate_data.R\n",
        "        ! mv h181.csv /usr/local/lib/python3.12/dist-packages/aif360/data/raw/meps/\n",
        "        ! mv h192.csv /usr/local/lib/python3.12/dist-packages/aif360/data/raw/meps/\n",
        "        ```\n",
        "\n",
        "  \n",
        "### Local Settings\n",
        "\n",
        "#### 1. Uv installation\n",
        "\n",
        "\n",
        "        https://docs.astral.sh/uv/getting-started/installation/\n",
        "\n",
        "\n",
        "        `curl -LsSf https://astral.sh/uv/install.sh | sh`\n",
        "\n",
        "        Python version 3.12 installation (highly recommended)\n",
        "        `uv python install 3.12`\n",
        "\n",
        "#### 2. R installation (needed for data download/pre-processing only of Part 2)\n",
        "\n",
        "        In the command `Rscript` says 'command not found'\n",
        "\n",
        "        `sudo apt install r-base-core`\n",
        "\n",
        "#### 3. Python env creation\n",
        "\n",
        "        ```\n",
        "        mkdir TD_bias_mitigation\n",
        "        cd TD_bias_mitigation\n",
        "        uv python pin 3.12\n",
        "        uv pip install numpy fairlearn plotly nbformat ipykernel aif360[\"inFairness\"] aif360['AdversarialDebiasing'] causal-learn BlackBoxAuditing cvxpy dice-ml lime shapkit\n",
        "        ```\n",
        "\n",
        "#### 4. Download MEPS dataset (for part2) it can take several minutes\n",
        "\n",
        "        ```\n",
        "        cd TD_bias_mitigation/.venv/lib/python3.12/site-packages/aif360/data/raw/meps/\n",
        "        Rscript generate_data.R\n",
        "        ```\n",
        "\n"
      ]
    },
    {
      "cell_type": "code",
      "source": [
        "# To execute only in Colab\n",
        "! python -m pip install numpy fairlearn plotly nbformat ipykernel aif360[\"inFairness\"] aif360['AdversarialDebiasing'] causal-learn BlackBoxAuditing cvxpy dice-ml lime shapkit\n",
        "! Rscript /usr/local/lib/python3.12/dist-packages/aif360/data/raw/meps/generate_data.R\n",
        "! mv h181.csv /usr/local/lib/python3.12/dist-packages/aif360/data/raw/meps/\n",
        "! mv h192.csv /usr/local/lib/python3.12/dist-packages/aif360/data/raw/meps/"
      ],
      "metadata": {
        "id": "W_44TinCUexW"
      },
      "id": "W_44TinCUexW",
      "execution_count": null,
      "outputs": []
    },
    {
      "cell_type": "markdown",
      "source": [
        "## Dataset: Diabetes 130-Hospitals\n",
        "\n",
        "\n",
        "https://fairlearn.org/main/api_reference/generated/fairlearn.datasets.fetch_diabetes_hospital.html\n",
        "\n",
        "\n",
        "This dataset contains 101,766 rows, each one corresponding to a patient hospitalized for diabetes for a duration ranging from 1 to 14 days. The data was collected over 10 years and across 130 different hospitals. Each data point has 25 features, including medical and demographic information. The 'readmitted' column indicates whether the patient was readmitted, and if so, whether it was within 30 days or after. This column is further binarized into two other columns: 'readmit_30_days' (True if readmitted within 30 days, False otherwise) and 'readmitted' (True if readmitted, False otherwise).\n",
        "\n",
        "We will use the 'readmit_30_days' column as the label/ground truth.\n",
        "\n",
        "We will simplify the analysis by considering only a subset of 14 provided features:\n",
        "age, gender, race, time_in_hospital, num_lab_procedures, num_procedures, num_medications, number_diagnoses, max_glu_serum, A1Cresult, insulin, had_emergency, had_inpatient_days, had_outpatient_days.\n",
        "\n",
        "## Dataset: Meps\n",
        "\n",
        "We recommend consulting the following pages for a better understanding of the dataset: [MEPSDataset19](https://aif360.readthedocs.io/en/latest/modules/generated/aif360.datasets.MEPSDataset19.html) and the [AIF360 tutorial](https://github.com/Trusted-AI/AIF360/blob/main/examples/tutorial_medical_expenditure.ipynb)\n",
        "\n",
        "What you need to have read\n",
        "- **The sensitive attribute is 'RACE' :1 is privileged, 0 is unprivileged** ; It is constructed as follows: 'Whites' (privileged class) defined by the features RACEV2X = 1 (White) and HISPANX = 2 (non Hispanic); 'Non-Whites' that included everyone else.\n",
        "(The features 'RACEV2X', 'HISPANX' etc are removed, and replaced by the 'RACE')\n",
        "- **'UTILIZATION' is the outcome (the label to predict for a ML model) 0 is positive 1 is negative**. It is a binary composite feature, created to measure the total number of trips requiring some sort of medical care, it sum up the following features (that are removed from the data):\n",
        "    * OBTOTV15(16), the number of office based visits\n",
        "    * OPTOTV15(16), the number of outpatient visits\n",
        "    * ERTOT15(16), the number of ER visits\n",
        "    * IPNGTD15(16), the number of inpatient nights\n",
        "    * HHTOTD16, the number of home health visits\n",
        "UTILISATION is set to 1 when te sum is above or equal to 10, else it is set to 0\n",
        "- **The dataset is weighted** The dataset come with an 'instance_weights' attribute that corresponds to the feature perwt15f these weights are supposed to generate estimates that are representative of the United State (US) population in 2015.\n",
        "\n",
        "\n",
        "Summary to remember\n",
        "- **The sensitive attribute is 'RACE' :1 is privileged, 0 is unprivileged**\n",
        "- **'UTILIZATION' is the outcome (the label to predict for a ML model) 0 is positive 1 is negative**\n",
        "- **The dataset is weighted**\n"
      ],
      "metadata": {
        "id": "z1TzkzRFUdp_"
      },
      "id": "z1TzkzRFUdp_"
    },
    {
      "cell_type": "code",
      "execution_count": null,
      "id": "a3f8114b",
      "metadata": {
        "id": "a3f8114b"
      },
      "outputs": [],
      "source": [
        "# Code to compute fairness metrics using aif360\n",
        "\n",
        "from aif360.sklearn.metrics import *\n",
        "from sklearn.metrics import  balanced_accuracy_score\n",
        "\n",
        "\n",
        "# This method takes lists\n",
        "def get_metrics(\n",
        "    y_true, # list or np.array of truth values\n",
        "    y_pred=None,  # list or np.array of predictions\n",
        "    prot_attr=None, # list or np.array of protected/sensitive attribute values\n",
        "    priv_group=1, # value taken by the privileged group\n",
        "    pos_label=1, # value taken by the positive truth/prediction\n",
        "    sample_weight=None # list or np.array of weights value,\n",
        "):\n",
        "    group_metrics = {}\n",
        "    group_metrics[\"base_rate_truth\"] = base_rate(\n",
        "        y_true=y_true, pos_label=pos_label, sample_weight=sample_weight\n",
        "    )\n",
        "    group_metrics[\"statistical_parity_difference\"] = statistical_parity_difference(\n",
        "        y_true=y_true, y_pred=y_pred, prot_attr=prot_attr, priv_group=priv_group, pos_label=pos_label, sample_weight=sample_weight\n",
        "    )\n",
        "    group_metrics[\"disparate_impact_ratio\"] = disparate_impact_ratio(\n",
        "        y_true=y_true, y_pred=y_pred, prot_attr=prot_attr, priv_group=priv_group, pos_label=pos_label, sample_weight=sample_weight\n",
        "    )\n",
        "    if not y_pred is None:\n",
        "        group_metrics[\"base_rate_preds\"] = base_rate(\n",
        "        y_true=y_pred, pos_label=pos_label, sample_weight=sample_weight\n",
        "        )\n",
        "        group_metrics[\"equal_opportunity_difference\"] = equal_opportunity_difference(\n",
        "            y_true=y_true, y_pred=y_pred, prot_attr=prot_attr, priv_group=priv_group, pos_label=pos_label, sample_weight=sample_weight\n",
        "        )\n",
        "        group_metrics[\"average_odds_difference\"] = average_odds_difference(\n",
        "            y_true=y_true, y_pred=y_pred, prot_attr=prot_attr, priv_group=priv_group, pos_label=pos_label, sample_weight=sample_weight\n",
        "        )\n",
        "        if len(set(y_pred))>1:\n",
        "            group_metrics[\"conditional_demographic_disparity\"] = conditional_demographic_disparity(\n",
        "                y_true=y_true, y_pred=y_pred, prot_attr=prot_attr, pos_label=pos_label, sample_weight=sample_weight\n",
        "            )\n",
        "        else:\n",
        "            group_metrics[\"conditional_demographic_disparity\"] =None\n",
        "        group_metrics[\"smoothed_edf\"] = smoothed_edf(\n",
        "        y_true=y_true, y_pred=y_pred, prot_attr=prot_attr, pos_label=pos_label, sample_weight=sample_weight\n",
        "        )\n",
        "        group_metrics[\"df_bias_amplification\"] = df_bias_amplification(\n",
        "        y_true=y_true, y_pred=y_pred, prot_attr=prot_attr, pos_label=pos_label, sample_weight=sample_weight\n",
        "        )\n",
        "        group_metrics[\"balanced_accuracy_score\"] = balanced_accuracy_score(\n",
        "        y_true=y_true, y_pred=y_pred, sample_weight=sample_weight\n",
        "        )\n",
        "    return group_metrics"
      ]
    },
    {
      "cell_type": "markdown",
      "id": "06d79c25",
      "metadata": {
        "id": "06d79c25"
      },
      "source": [
        "## Part 1: Dataset Diabetes analysis"
      ]
    },
    {
      "cell_type": "markdown",
      "id": "4197f02b",
      "metadata": {
        "id": "4197f02b"
      },
      "source": [
        "###  Download and simplify the dataset"
      ]
    },
    {
      "cell_type": "code",
      "execution_count": null,
      "id": "1dba7fba",
      "metadata": {
        "id": "1dba7fba"
      },
      "outputs": [],
      "source": [
        "import numpy as np\n",
        "import pandas as pd\n",
        "import fairlearn\n",
        "np.__version__, fairlearn.__version__"
      ]
    },
    {
      "cell_type": "code",
      "execution_count": null,
      "id": "bcd7d4a9",
      "metadata": {
        "id": "bcd7d4a9"
      },
      "outputs": [],
      "source": [
        "from fairlearn.datasets import fetch_diabetes_hospital\n",
        "dataset = fetch_diabetes_hospital()"
      ]
    },
    {
      "cell_type": "code",
      "execution_count": null,
      "id": "299cae4a",
      "metadata": {
        "id": "299cae4a"
      },
      "outputs": [],
      "source": [
        "selection = [\n",
        "    \"age\",\n",
        "    \"gender\",\n",
        "    \"race\",\n",
        "    \"time_in_hospital\",\n",
        "    \"num_lab_procedures\",\n",
        "    \"num_procedures\",\n",
        "    \"num_medications\",\n",
        "    \"number_diagnoses\",\n",
        "    \"max_glu_serum\",\n",
        "    \"A1Cresult\",\n",
        "    \"insulin\",\n",
        "    \"had_emergency\",\n",
        "    \"had_inpatient_days\",\n",
        "    \"had_outpatient_days\"]\n",
        "\n",
        "categorical_features = [\n",
        "    \"had_emergency\",\n",
        "    \"had_inpatient_days\",\n",
        "    \"had_outpatient_days\",\n",
        "    \"age\",\n",
        "    \"gender\",\n",
        "    \"race\",\n",
        "    \"max_glu_serum\",\n",
        "    \"A1Cresult\",\n",
        "    \"insulin\"]\n",
        "\n",
        "numerical_features = list(set(selection) - set(categorical_features))\n",
        "\n",
        "df_diabetes = dataset.data[selection].copy(deep=True)\n",
        "\n",
        "label = 'readmit_30_days'\n",
        "\n",
        "df_diabetes[label] = dataset.target\n",
        "\n",
        "for categorical_feature in categorical_features:\n",
        "    df_diabetes[categorical_feature] = df_diabetes[categorical_feature].astype('category')\n",
        "df_diabetes.info()\n"
      ]
    },
    {
      "cell_type": "markdown",
      "id": "96bf1661",
      "metadata": {
        "id": "96bf1661"
      },
      "source": [
        "### Question1 : Count the number of positive and negative label"
      ]
    },
    {
      "cell_type": "markdown",
      "id": "0cef2b01",
      "metadata": {
        "id": "0cef2b01"
      },
      "source": [
        "### Question2: Display the distribution of the numerical features and compute their correlation with the target"
      ]
    },
    {
      "cell_type": "markdown",
      "id": "98cf6382",
      "metadata": {
        "id": "98cf6382"
      },
      "source": [
        "### Question3: Display histogram of categorical distribution by label for each categorical features."
      ]
    },
    {
      "cell_type": "markdown",
      "id": "4796cf6b",
      "metadata": {
        "id": "4796cf6b"
      },
      "source": [
        "### Question 4: Compute base rate metrics for a sensitive binary attribute (gender, race etc)"
      ]
    },
    {
      "cell_type": "markdown",
      "id": "0bebb7bc",
      "metadata": {
        "id": "0bebb7bc"
      },
      "source": [
        "## Part 2: MEPS dataset analysis"
      ]
    },
    {
      "cell_type": "markdown",
      "id": "f25441d6",
      "metadata": {
        "id": "f25441d6"
      },
      "source": [
        "###  Download and simplify the dataset"
      ]
    },
    {
      "cell_type": "code",
      "execution_count": null,
      "id": "86d9cb79",
      "metadata": {
        "id": "86d9cb79"
      },
      "outputs": [],
      "source": [
        "# imports\n",
        "import numpy as np\n",
        "import pandas as pd\n",
        "import plotly.express as px\n",
        "import warnings\n",
        "warnings.simplefilter(action='ignore', category=FutureWarning)\n",
        "warnings.simplefilter(action='ignore', append=True, category=UserWarning)\n"
      ]
    },
    {
      "cell_type": "code",
      "execution_count": null,
      "id": "a2619054",
      "metadata": {
        "id": "a2619054"
      },
      "outputs": [],
      "source": [
        "# Datasets\n",
        "from aif360.datasets import MEPSDataset19\n",
        "from aif360.datasets import MEPSDataset20\n",
        "from aif360.datasets import MEPSDataset21\n",
        "\n",
        "MEPSDataset19_data = MEPSDataset19()"
      ]
    },
    {
      "cell_type": "code",
      "execution_count": null,
      "id": "182ef40d",
      "metadata": {
        "id": "182ef40d"
      },
      "outputs": [],
      "source": [
        "instance_weights = MEPSDataset19_data.instance_weights\n",
        "f\"Dataset len {len(instance_weights)}, total weight of the dataset {instance_weights.sum()}.\""
      ]
    },
    {
      "cell_type": "markdown",
      "id": "9ef8ced7",
      "metadata": {
        "id": "9ef8ced7"
      },
      "source": [
        "### First overview of the dataset\n",
        "\n",
        "The AIF360 library provides a wrapper around the dataset, making it a bit less intuitive to use (for example, to study/visualize the attributes one by one), but it allows fairness metrics to be computed with a single command line."
      ]
    },
    {
      "cell_type": "code",
      "execution_count": null,
      "id": "3b92fd21",
      "metadata": {
        "id": "3b92fd21"
      },
      "outputs": [],
      "source": [
        "from aif360.metrics import BinaryLabelDatasetMetric\n",
        "from aif360.metrics import ClassificationMetric\n",
        "\n",
        "metric_orig_panel19_train = BinaryLabelDatasetMetric(\n",
        "        MEPSDataset19_data,\n",
        "        unprivileged_groups=[{'RACE': 0}],\n",
        "        privileged_groups=[{'RACE': 1}])\n",
        "\n",
        "print(metric_orig_panel19_train.disparate_impact())"
      ]
    },
    {
      "cell_type": "markdown",
      "id": "4a3b6771",
      "metadata": {
        "id": "4a3b6771"
      },
      "source": [
        "However, since the aim of this lab is still to manipulate and analyze the data, we will return to working with the data in the form of a dataframe.\n",
        "\n",
        "Note: To calculate fairness metrics without having to re-implement them for the weighted case (instance weights), you can use the methods implemented in AIF360 here: [Fairness Metrics Implementation](https://aif360.readthedocs.io/en/latest/modules/sklearn.html#module-aif360.sklearn.metrics)"
      ]
    },
    {
      "cell_type": "markdown",
      "id": "97e71c40",
      "metadata": {
        "id": "97e71c40"
      },
      "source": [
        "### Conversion to a DataFrame\n",
        "\n",
        "We have seen that the sum of the weights is significant, nearly 115 million, so we cannot reasonably duplicate each row as many times as its weight.\n",
        "\n",
        "We will store the weighting and take it into account later in our analysis."
      ]
    },
    {
      "cell_type": "code",
      "execution_count": null,
      "id": "69f6cdc8",
      "metadata": {
        "id": "69f6cdc8"
      },
      "outputs": [],
      "source": [
        "def get_df(MepsDataset):\n",
        "    data = MepsDataset.convert_to_dataframe()\n",
        "    # data_train est un tuple, avec le data_frame et un dictionnaire avec toutes les infos (poids, attributs sensibles etc)\n",
        "    df = data[0]\n",
        "    df['WEIGHT'] = data[1]['instance_weights']\n",
        "    return df\n",
        "\n",
        "df_meps = get_df(MEPSDataset19_data)"
      ]
    },
    {
      "cell_type": "code",
      "execution_count": null,
      "id": "5d071f9c",
      "metadata": {
        "id": "5d071f9c"
      },
      "outputs": [],
      "source": [
        "df_meps.columns"
      ]
    },
    {
      "cell_type": "code",
      "execution_count": null,
      "id": "00c10c1d",
      "metadata": {
        "id": "00c10c1d"
      },
      "outputs": [],
      "source": [
        "get_metrics(\n",
        "   y_true=df_meps.UTILIZATION, # list or np.array of truth values\n",
        "   y_pred=None,  # list or np.array of predictions\n",
        "   prot_attr=df_meps.RACE, # list or np.array of protected/sensitive attribute values\n",
        "   priv_group=1, # value taken by the privileged group\n",
        "   pos_label=0, # value taken by the positive truth/prediction\n",
        "   sample_weight=None # list or np.array of weights value\n",
        ")"
      ]
    },
    {
      "cell_type": "code",
      "execution_count": null,
      "id": "241cd6e8",
      "metadata": {
        "id": "241cd6e8"
      },
      "outputs": [],
      "source": [
        "get_metrics(\n",
        "    y_true=df_meps.UTILIZATION, # list or np.array of truth values\n",
        "    y_pred=None,  # list or np.array of predictions\n",
        "    prot_attr=df_meps.RACE, # list or np.array of protected/sensitive attribute values\n",
        "    priv_group=1, # value taken by the privileged group\n",
        "    pos_label=0, # value taken by the positive truth/prediction\n",
        "    sample_weight=df_meps.WEIGHT # list or np.array of weights value\n",
        ")"
      ]
    },
    {
      "cell_type": "markdown",
      "id": "3cf79e4e",
      "metadata": {
        "id": "3cf79e4e"
      },
      "source": [
        "### Question 5.1 - Faire l'étude descriptive univarié de la couleur de peau ('RACE') (effectif, fréquence, model)"
      ]
    },
    {
      "cell_type": "markdown",
      "id": "3483cba8",
      "metadata": {
        "id": "3483cba8"
      },
      "source": [
        "### Question 5.2 - Faire des graphiques décrivant la couleur de peau  (diagramme en secteur, diagramme en barres)"
      ]
    },
    {
      "cell_type": "markdown",
      "id": "3f4de494",
      "metadata": {
        "id": "3f4de494"
      },
      "source": [
        "### Question 5.3 - Faire l'analyse bivariée entre la couleur de peau et les autres variables explicatives quantitatives (boite à moustaches des variables par genre, densité/histogramme par genre, rapport de corrélation)"
      ]
    },
    {
      "cell_type": "markdown",
      "id": "36a0da28",
      "metadata": {
        "id": "36a0da28"
      },
      "source": [
        "### Question 5.4 - Faire l'analyse bivariée entre la couleur de peau et d'autres variables explicatives qualitative (table de contingence, diagramme en barre selon les profils lignes et selon les profils colonnes, diagramme en mosaique)"
      ]
    },
    {
      "cell_type": "markdown",
      "id": "bc482ff6",
      "metadata": {
        "id": "bc482ff6"
      },
      "source": [
        "### Question 5.5 - Faire l'analyse bivariée entre la couleur de peau et la colonne 'UTILIZATION'"
      ]
    },
    {
      "cell_type": "markdown",
      "id": "8318d87f",
      "metadata": {
        "id": "8318d87f"
      },
      "source": [
        "### Question 6 - Faire la même analyse que la question 5 avec une autre colonne sensible (sexe, âge, etc)"
      ]
    },
    {
      "cell_type": "code",
      "source": [],
      "metadata": {
        "id": "ktGfQX9yWV8y"
      },
      "id": "ktGfQX9yWV8y",
      "execution_count": null,
      "outputs": []
    }
  ],
  "metadata": {
    "kernelspec": {
      "display_name": "TD_bias_mitigation",
      "language": "python",
      "name": "python3"
    },
    "language_info": {
      "codemirror_mode": {
        "name": "ipython",
        "version": 3
      },
      "file_extension": ".py",
      "mimetype": "text/x-python",
      "name": "python",
      "nbconvert_exporter": "python",
      "pygments_lexer": "ipython3",
      "version": "3.10.18"
    },
    "colab": {
      "provenance": [],
      "include_colab_link": true
    }
  },
  "nbformat": 4,
  "nbformat_minor": 5
}